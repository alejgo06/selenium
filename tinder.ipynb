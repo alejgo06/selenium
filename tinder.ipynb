{
 "cells": [
  {
   "cell_type": "code",
   "execution_count": null,
   "metadata": {},
   "outputs": [],
   "source": [
    "from selenium import webdriver\n",
    "import time"
   ]
  },
  {
   "cell_type": "code",
   "execution_count": null,
   "metadata": {},
   "outputs": [],
   "source": [
    "class TinderBot():\n",
    "    def __init__(self):\n",
    "        self.driver=webdriver.Chrome()\n",
    "        \n",
    "    def login(self,user,password):\n",
    "        self.driver.get(\"https://tinder.com\")\n",
    "        time.sleep(5)\n",
    "        #click login buttom\n",
    "        fb_login=self.driver.find_element_by_xpath('//*[@id=\"modal-manager\"]/div/div/div/div/div[3]/div[2]/button')\n",
    "        fb_login.click()\n",
    "        #move to pop up window\n",
    "        self.base_window=self.driver.window_handles[0]\n",
    "        self.driver.switch_to_window(self.driver.window_handles[1])\n",
    "        \n",
    "        #login in facebook\n",
    "        email_in=self.driver.find_element_by_xpath('//*[@id=\"email\"]')\n",
    "        email_in.send_keys(user)\n",
    "        password_in = self.driver.find_element_by_xpath('//*[@id=\"pass\"]')\n",
    "        password_in.send_keys(password)\n",
    "        fb_logint_entrar=self.driver.find_element_by_xpath('//*[@id=\"u_0_0\"]')\n",
    "        fb_logint_entrar.click()\n",
    "        \n",
    "        #move to base window\n",
    "        self.driver.switch_to_window(self.base_window)\n",
    "        \n",
    "        #permision\n",
    "        time.sleep(2)\n",
    "        allow_location_buttom=self.driver.find_element_by_xpath('//*[@id=\"modal-manager\"]/div/div/div/div/div[3]/button[2]')\n",
    "        allow_location_buttom.click()\n",
    "        time.sleep(2)\n",
    "        use_tinder_buttom=self.driver.find_element_by_xpath('//*[@id=\"modal-manager\"]/div/div/div/div/div[3]/button[1]')\n",
    "        use_tinder_buttom.click()\n",
    "        time.sleep(2)\n",
    "        hallow_tinder_notifications_buttom=self.driver.find_element_by_xpath('//*[@id=\"modal-manager\"]/div/div/div/div/div[3]/button[1]')\n",
    "        hallow_tinder_notifications_buttom.click()\n",
    "        \n",
    "    def like1(self): \n",
    "        like_buttom = self.driver.find_element_by_xpath('//*[@id=\"content\"]/div/div[1]/div/main/div[1]/div/div/div[1]/div/div[2]/button[3]')\n",
    "        like_buttom.click()\n",
    "        \n",
    "    def like2(self):\n",
    "        like_buttom=self.driver.find_element_by_xpath('//*[@id=\"content\"]/div/div[1]/div/div/main/div/div[1]/div/div[2]/button[3]')\n",
    "        like_buttom.click()\n",
    "        \n",
    "    def dislike1(self):\n",
    "        dislike_buttom = self.driver.find_element_by_xpath('//*[@id=\"content\"]/div/div[1]/div/main/div[1]/div/div/div[1]/div/div[2]/button[1]')\n",
    "        dislike_buttom.click()\n",
    "        \n",
    "    def dislike2(self):\n",
    "        dislike_buttom=self.driver.find_element_by_xpath('//*[@id=\"content\"]/div/div[1]/div/div/main/div/div[1]/div/div[2]/button[1]')\n",
    "        dislike_buttom.click()\n",
    "    \n",
    "    def get_name(self):\n",
    "        name_id=self.driver.find_element_by_xpath('//*[@id=\"content\"]/div/div[1]/div/main/div[1]/div/div/div[1]/div/div[1]/div[3]/div[6]/div/div[1]/div/div/span')\n",
    "        return name_id.text\n",
    "    def get_age(self):\n",
    "        age_id=self.driver.find_element_by_xpath('//*[@id=\"content\"]/div/div[1]/div/div/main/div/div[1]/div/div[1]/div[3]/div[6]/div/div[1]/div/span')\n",
    "        return age_id.text\n",
    "    \n",
    "    def get_screenshot(self):\n",
    "        name=self.get_name()\n",
    "        self.driver.save_screenshot(name+'_'+self.driver.session_id+'.png')\n",
    "    \n",
    "    def like(self):\n",
    "        self.get_screenshot()\n",
    "        self.like1()"
   ]
  },
  {
   "cell_type": "code",
   "execution_count": null,
   "metadata": {},
   "outputs": [],
   "source": [
    "mytinder=TinderBot()"
   ]
  },
  {
   "cell_type": "code",
   "execution_count": null,
   "metadata": {},
   "outputs": [],
   "source": [
    "mytinder.login(user,password)"
   ]
  },
  {
   "cell_type": "code",
   "execution_count": null,
   "metadata": {},
   "outputs": [],
   "source": [
    "mytinder.like1()"
   ]
  },
  {
   "cell_type": "code",
   "execution_count": null,
   "metadata": {},
   "outputs": [],
   "source": [
    "mytinder.dislike1()"
   ]
  },
  {
   "cell_type": "code",
   "execution_count": null,
   "metadata": {},
   "outputs": [],
   "source": [
    "for i in range(100):\n",
    "    mytinder.get_screenshot()\n",
    "    mytinder.like1()"
   ]
  },
  {
   "cell_type": "code",
   "execution_count": null,
   "metadata": {},
   "outputs": [],
   "source": []
  },
  {
   "cell_type": "code",
   "execution_count": null,
   "metadata": {},
   "outputs": [],
   "source": []
  },
  {
   "cell_type": "code",
   "execution_count": null,
   "metadata": {},
   "outputs": [],
   "source": []
  },
  {
   "cell_type": "code",
   "execution_count": null,
   "metadata": {},
   "outputs": [],
   "source": []
  },
  {
   "cell_type": "code",
   "execution_count": null,
   "metadata": {},
   "outputs": [],
   "source": []
  },
  {
   "cell_type": "code",
   "execution_count": null,
   "metadata": {},
   "outputs": [],
   "source": []
  },
  {
   "cell_type": "code",
   "execution_count": null,
   "metadata": {},
   "outputs": [],
   "source": []
  },
  {
   "cell_type": "code",
   "execution_count": null,
   "metadata": {},
   "outputs": [],
   "source": []
  },
  {
   "cell_type": "code",
   "execution_count": null,
   "metadata": {},
   "outputs": [],
   "source": []
  },
  {
   "cell_type": "code",
   "execution_count": null,
   "metadata": {},
   "outputs": [],
   "source": []
  },
  {
   "cell_type": "code",
   "execution_count": null,
   "metadata": {},
   "outputs": [],
   "source": []
  },
  {
   "cell_type": "code",
   "execution_count": null,
   "metadata": {},
   "outputs": [],
   "source": []
  },
  {
   "cell_type": "code",
   "execution_count": null,
   "metadata": {},
   "outputs": [],
   "source": []
  },
  {
   "cell_type": "code",
   "execution_count": null,
   "metadata": {},
   "outputs": [],
   "source": []
  },
  {
   "cell_type": "code",
   "execution_count": null,
   "metadata": {},
   "outputs": [],
   "source": []
  },
  {
   "cell_type": "code",
   "execution_count": null,
   "metadata": {},
   "outputs": [],
   "source": []
  },
  {
   "cell_type": "code",
   "execution_count": null,
   "metadata": {},
   "outputs": [],
   "source": []
  },
  {
   "cell_type": "code",
   "execution_count": null,
   "metadata": {},
   "outputs": [],
   "source": []
  }
 ],
 "metadata": {
  "kernelspec": {
   "display_name": "Python 3",
   "language": "python",
   "name": "python3"
  },
  "language_info": {
   "codemirror_mode": {
    "name": "ipython",
    "version": 3
   },
   "file_extension": ".py",
   "mimetype": "text/x-python",
   "name": "python",
   "nbconvert_exporter": "python",
   "pygments_lexer": "ipython3",
   "version": "3.7.6"
  }
 },
 "nbformat": 4,
 "nbformat_minor": 2
}
